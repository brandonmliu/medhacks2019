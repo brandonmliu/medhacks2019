{
 "cells": [
  {
   "cell_type": "code",
   "execution_count": 94,
   "metadata": {},
   "outputs": [],
   "source": [
    "# \"Seps-is?: A Diagnostic Tool for Infection using Vital Sign Data\"\n",
    "# MedHacks 2019, Track: Post-operative care\n",
    "# Members: Srinidhi Emkay, Brandon Liu, Randy Maysaud, Emmanuel Osikpa, Jenny Tran\n",
    "# This program predicts infection based on changes in heart rate (HR) and body temperature (BT).\n",
    "\n",
    "# 0. Background information\n",
    "# 1. Baselining of HR & BT\n",
    "# 2. Measurement of HR & BT\n",
    "# 3. Calculation of ΔHR/BT\n",
    "# 4. Reporting of infection risk\n",
    "# 5. Noting of other potential disease risks\n",
    "# 6. Challenges, conclusions, & future work\n",
    "\n",
    "import random # for random patient data generation\n",
    "import matplotlib as plt # for data visualization\n",
    "from matplotlib import pyplot\n"
   ]
  },
  {
   "cell_type": "code",
   "execution_count": 81,
   "metadata": {},
   "outputs": [
    {
     "data": {
      "text/plain": [
       "Text(0, 0.5, 'ΔHR')"
      ]
     },
     "execution_count": 81,
     "metadata": {},
     "output_type": "execute_result"
    },
    {
     "data": {
      "image/png": "[encoded data removed]",
      "text/plain": [
       "<Figure size 432x288 with 1 Axes>"
      ]
     },
     "metadata": {
      "needs_background": "light"
     },
     "output_type": "display_data"
    }
   ],
   "source": [
    "# 0. Background information\n",
    "\n",
    "# Track: Post-operative care\n",
    "# - Prediction of infection ... but what sensors do we have?\n",
    "# - We thought: unachievable track? No access to microbial sensors\n",
    "# - Detection of infection based on vital signs?\n",
    "\n",
    "# Ref.: Hamano, J.; Tokuda, Y. Changes in vital signs as predictors of bacterial infection in home care: a multi-center prospective cohort study. Postgrad. Med. 2017, 129, 283-287.\n",
    "# - Prediction of infection based on heart rate & body temperature changes\n",
    "# - Use of heart rate & body temperature in tandem improved specificity drastically\n",
    "# - Employed in geriatric care in long-term care facilities\n",
    "# - Can we employ this diagnostic approach in post-operative care in homes?\n",
    "\n",
    "# Project: Diagnostic tool for infection based on heart rate & body temperature changes\n",
    "# - A potential at-home diagnostic tool for infection\n",
    "\n",
    "# Normal ΔHR/BT = 18 bpm / °C\n",
    "# Above line - infection likely\n",
    "# Below line - infection unlikely\n",
    "x = [-4, -3, -2, -1, 0, 1, 2, 3, 4]\n",
    "y = [i * 18 for i in x]\n",
    "plt.pyplot.plot(x,y)\n",
    "plt.pyplot.xlabel(\"ΔBT\")\n",
    "plt.pyplot.ylabel(\"ΔHR\")\n"
   ]
  },
  {
   "cell_type": "code",
   "execution_count": 36,
   "metadata": {},
   "outputs": [
    {
     "name": "stdout",
     "output_type": "stream",
     "text": [
      "Baseline method? (\"averaged\" or \"assumed\"): assumed\n",
      "Baseline HR: 60 bpm\n",
      "Baseline BT: 36.0 °C\n"
     ]
    }
   ],
   "source": [
    "# 1. Baselining of HR & BT\n",
    "# Baseline could be determined by patient's previous healthy reports or assumed if unavailable\n",
    "# Baseline can vary among patients\n",
    "\n",
    "baselineMethod = input(\"Baseline method? (\\\"averaged\\\" or \\\"assumed\\\"): \")\n",
    "\n",
    "if baselineMethod == \"averaged\":\n",
    "    print(\"Please input data averaged of the past 3 healthy reports.\")\n",
    "    hrBaseline = int(input(\"Baseline HR:   \"))\n",
    "    btBaseline = float(input(\"Baseline BT: \"))\n",
    "elif baselineMethod == \"assumed\":\n",
    "    hrBaseline = 60; print(\"Baseline HR: \" + str(hrBaseline) + \" bpm\")\n",
    "    btBaseline = 36.0; print(\"Baseline BT: \" + str(round(btBaseline, 1)) + \" °C\")\n",
    "else: print(\"Error in baseline method. Try again.\")\n"
   ]
  },
  {
   "cell_type": "code",
   "execution_count": 93,
   "metadata": {},
   "outputs": [
    {
     "name": "stdout",
     "output_type": "stream",
     "text": [
      "Random patient data generated:\n",
      " HR: 111 bpm\n",
      " BT: 36.6 °C\n",
      "\n",
      "ΔHR: 51 bpm\n",
      "ΔBT: 0.6 °C\n",
      "ΔHR/BT = 85.0 bpm/°C\n",
      "\n",
      "Infection likely. Seek medical attention.\n",
      "\n",
      "Other disease risks: \n",
      "Heart rate above normal range (60-100 bpm). Trachycardia likely.\n"
     ]
    }
   ],
   "source": [
    "# 2. Measurement of HR & BT\n",
    "# In place of sensors, random data are generated based on possible ranges of HR & BT\n",
    "\n",
    "print(\"Random patient data generated:\")\n",
    "hrReading = random.randrange(40, 120); print(\" HR: \" + str(hrReading) + \" bpm\")\n",
    "btReading = round(0.1 * random.randrange(300, 420), 1); print(\" BT: \" + str(round(btReading, 1)) + \" °C\")\n",
    "print()\n",
    "\n",
    "# 3. Calculation of ΔHR/BT\n",
    "# Basis of infection prediction is on this value\n",
    "\n",
    "deltaHr = hrReading - hrBaseline; print(\"ΔHR: \" + str(deltaHr) + \" bpm\")\n",
    "deltaBt = btReading - btBaseline; print(\"ΔBT: \" + str(round(deltaBt, 1)) + \" °C\")\n",
    "if deltaBt == 0: deltaBt = 0.1 # Prevents division by 0\n",
    "deltaHrBt = round(float(deltaHr)/deltaBt, 1); print(\"ΔHR/BT = \" + str(deltaHrBt) + \" bpm/°C\")\n",
    "print()\n",
    "\n",
    "# 4. Report of infection risk\n",
    "# Specificity - ability to identify patients without disease\n",
    "# Specificity of predictive approaches:\n",
    "# - This work    (ΔHR/BT > 20) : specificity = 84%\n",
    "# - Trachycardia (HR > 100 bpm): specificity = 68%\n",
    "# - - High bpm due to high temp is not infection\n",
    "# - Fever        (BT > 37.8 °C): specificity = 49%\n",
    "# - - High temp alone may not be due to infection\n",
    "\n",
    "if deltaHrBt > 20: print(\"Infection likely. Seek medical attention.\")\n",
    "else: print(\"Infection unlikely.\")\n",
    "print()\n",
    "    \n",
    "# 5. Noting of other potential disease risks\n",
    "\n",
    "print(\"Other disease risks: \")\n",
    "if hrReading < 60:   print(\"Heart rate below normal range (60-100 bpm).\")\n",
    "if hrReading > 100:  print(\"Heart rate above normal range (60-100 bpm). Trachycardia likely.\")\n",
    "if btReading < 36.1: print(\"Body temperature below normal range (36.1-37.8 °C).\")\n",
    "if btReading > 37.8: print(\"Body temperature above normal range (36.1-37.8 °C). Fever likely.\")\n",
    "# Further predictions of diseases could be implemented here\n",
    "    "
   ]
  },
  {
   "cell_type": "code",
   "execution_count": null,
   "metadata": {},
   "outputs": [],
   "source": [
    "# 6. Challenges, conclusions, & future work\n",
    "\n",
    "# Challenges\n",
    "# - Research progress (only recent concept, 2017)\n",
    "# - Factoring demographic data (ref. age avg. = 84 ± 10 years)\n",
    "# - Generalizing data for demographics (age, race, ses, etc.)\n",
    "\n",
    "# Conclusions\n",
    "# - Developed tool for diagnostic prediction using very simple programming\n",
    "# - Complex diseases may be predicted (not diagnosed) by simple measures\n",
    "# - Research is difficult to employ live in a clinical setting\n",
    "# - Correlations can be programmed into a microcomputer for ease of access\n",
    "# - Encourages transition to programming for diagnostic aid\n",
    "\n",
    "# Future Work\n",
    "# - Addition of neural network layer for prediction improvement\n",
    "# - Hardware implementation: sensors for HR, BT, other vitals\n",
    "# - Expansion of vital signs and diseases to predict\n",
    "\n",
    "# Thank you!"
   ]
  }
 ],
 "metadata": {
  "kernelspec": {
   "display_name": "Python 3",
   "language": "python",
   "name": "python3"
  },
  "language_info": {
   "codemirror_mode": {
    "name": "ipython",
    "version": 3
   },
   "file_extension": ".py",
   "mimetype": "text/x-python",
   "name": "python",
   "nbconvert_exporter": "python",
   "pygments_lexer": "ipython3",
   "version": "3.7.3"
  }
 },
 "nbformat": 4,
 "nbformat_minor": 2
}
